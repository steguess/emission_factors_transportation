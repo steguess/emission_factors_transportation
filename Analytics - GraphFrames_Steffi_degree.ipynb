{
 "cells": [
  {
   "cell_type": "markdown",
   "metadata": {},
   "source": [
    "<a id='1.1'></a>\n",
    "### 1.1 Start Hadoop\n",
    "\n",
    "Start Hadoop\n",
    "\n",
    "Open a terminal and execute\n",
    "```sh\n",
    "hadoop-start.sh\n",
    "```"
   ]
  },
  {
   "cell_type": "markdown",
   "metadata": {},
   "source": [
    "<a id='1.2'></a>\n",
    "### 1.2 Search for Spark Installation \n",
    "This step is required just because we are working in the course environment."
   ]
  },
  {
   "cell_type": "code",
   "execution_count": 1,
   "metadata": {},
   "outputs": [
    {
     "name": "stdout",
     "output_type": "stream",
     "text": [
      "Scope 3 Emission Analysis\n",
      "--\n",
      "Analysis initialization:\n",
      "  1. Building the Spark Session...\n"
     ]
    }
   ],
   "source": [
    "import findspark\n",
    "findspark.init()\n",
    "from pyspark.sql import SparkSession\n",
    "from pyspark.context import SparkContext\n",
    "print (\"Scope 3 Emission Analysis\")\n",
    "print (\"--\")\n",
    "print (\"Analysis initialization:\")\n",
    "print (\"  1. Building the Spark Session...\")"
   ]
  },
  {
   "cell_type": "markdown",
   "metadata": {},
   "source": [
    "I'm changing pandas max column width property to improve data displaying"
   ]
  },
  {
   "cell_type": "markdown",
   "metadata": {},
   "source": [
    "<a id='1.3'></a>\n",
    "### 1.3 Create SparkSession\n",
    "\n",
    "By setting this environment variable we can include extra libraries in our Spark cluster.<br/>\n",
    "GraphFrames is not in spark core so we have to add it this way"
   ]
  },
  {
   "cell_type": "code",
   "execution_count": 2,
   "metadata": {},
   "outputs": [],
   "source": [
    "import os\n",
    "os.environ['PYSPARK_SUBMIT_ARGS'] = '--packages \"graphframes:graphframes:0.8.2-spark3.2-s_2.12\" --jars /opt/hive3/lib/hive-hcatalog-core-3.1.2.jar pyspark-shell'"
   ]
  },
  {
   "cell_type": "markdown",
   "metadata": {},
   "source": [
    "The first thing always is to create the SparkSession"
   ]
  },
  {
   "cell_type": "code",
   "execution_count": 3,
   "metadata": {},
   "outputs": [
    {
     "name": "stderr",
     "output_type": "stream",
     "text": [
      "WARNING: An illegal reflective access operation has occurred\n",
      "WARNING: Illegal reflective access by org.apache.spark.unsafe.Platform (file:/opt/spark3/jars/spark-unsafe_2.12-3.2.1.jar) to constructor java.nio.DirectByteBuffer(long,int)\n",
      "WARNING: Please consider reporting this to the maintainers of org.apache.spark.unsafe.Platform\n",
      "WARNING: Use --illegal-access=warn to enable warnings of further illegal reflective access operations\n",
      "WARNING: All illegal access operations will be denied in a future release\n",
      "Ivy Default Cache set to: /home/osbdet/.ivy2/cache\n",
      "The jars for the packages stored in: /home/osbdet/.ivy2/jars\n",
      "graphframes#graphframes added as a dependency\n",
      ":: resolving dependencies :: org.apache.spark#spark-submit-parent-99fd1f3e-19c4-4752-b2c6-ecb7e4c86950;1.0\n",
      "\tconfs: [default]\n"
     ]
    },
    {
     "name": "stdout",
     "output_type": "stream",
     "text": [
      ":: loading settings :: url = jar:file:/opt/spark3/jars/ivy-2.5.0.jar!/org/apache/ivy/core/settings/ivysettings.xml\n"
     ]
    },
    {
     "name": "stderr",
     "output_type": "stream",
     "text": [
      "\tfound graphframes#graphframes;0.8.2-spark3.2-s_2.12 in spark-packages\n",
      "\tfound org.slf4j#slf4j-api;1.7.16 in central\n",
      ":: resolution report :: resolve 96ms :: artifacts dl 2ms\n",
      "\t:: modules in use:\n",
      "\tgraphframes#graphframes;0.8.2-spark3.2-s_2.12 from spark-packages in [default]\n",
      "\torg.slf4j#slf4j-api;1.7.16 from central in [default]\n",
      "\t---------------------------------------------------------------------\n",
      "\t|                  |            modules            ||   artifacts   |\n",
      "\t|       conf       | number| search|dwnlded|evicted|| number|dwnlded|\n",
      "\t---------------------------------------------------------------------\n",
      "\t|      default     |   2   |   0   |   0   |   0   ||   2   |   0   |\n",
      "\t---------------------------------------------------------------------\n",
      ":: retrieving :: org.apache.spark#spark-submit-parent-99fd1f3e-19c4-4752-b2c6-ecb7e4c86950\n",
      "\tconfs: [default]\n",
      "\t0 artifacts copied, 2 already retrieved (0kB/2ms)\n",
      "22/10/23 14:49:11 ERROR SparkContext: Failed to add file:/opt/hive3/lib/hive-hcatalog-core-3.1.2.jar to Spark environment\n",
      "java.io.FileNotFoundException: Jar /opt/hive3/lib/hive-hcatalog-core-3.1.2.jar not found\n",
      "\tat org.apache.spark.SparkContext.addLocalJarFile$1(SparkContext.scala:1935)\n",
      "\tat org.apache.spark.SparkContext.addJar(SparkContext.scala:1990)\n",
      "\tat org.apache.spark.SparkContext.$anonfun$new$12(SparkContext.scala:503)\n",
      "\tat org.apache.spark.SparkContext.$anonfun$new$12$adapted(SparkContext.scala:503)\n",
      "\tat scala.collection.mutable.ResizableArray.foreach(ResizableArray.scala:62)\n",
      "\tat scala.collection.mutable.ResizableArray.foreach$(ResizableArray.scala:55)\n",
      "\tat scala.collection.mutable.ArrayBuffer.foreach(ArrayBuffer.scala:49)\n",
      "\tat org.apache.spark.SparkContext.<init>(SparkContext.scala:503)\n",
      "\tat org.apache.spark.api.java.JavaSparkContext.<init>(JavaSparkContext.scala:58)\n",
      "\tat java.base/jdk.internal.reflect.NativeConstructorAccessorImpl.newInstance0(Native Method)\n",
      "\tat java.base/jdk.internal.reflect.NativeConstructorAccessorImpl.newInstance(NativeConstructorAccessorImpl.java:62)\n",
      "\tat java.base/jdk.internal.reflect.DelegatingConstructorAccessorImpl.newInstance(DelegatingConstructorAccessorImpl.java:45)\n",
      "\tat java.base/java.lang.reflect.Constructor.newInstance(Constructor.java:490)\n",
      "\tat py4j.reflection.MethodInvoker.invoke(MethodInvoker.java:247)\n",
      "\tat py4j.reflection.ReflectionEngine.invoke(ReflectionEngine.java:357)\n",
      "\tat py4j.Gateway.invoke(Gateway.java:238)\n",
      "\tat py4j.commands.ConstructorCommand.invokeConstructor(ConstructorCommand.java:80)\n",
      "\tat py4j.commands.ConstructorCommand.execute(ConstructorCommand.java:69)\n",
      "\tat py4j.ClientServerConnection.waitForCommands(ClientServerConnection.java:182)\n",
      "\tat py4j.ClientServerConnection.run(ClientServerConnection.java:106)\n",
      "\tat java.base/java.lang.Thread.run(Thread.java:829)\n"
     ]
    }
   ],
   "source": [
    "# 1. Building the Spark Session\n",
    "sc = SparkSession.builder\\\n",
    "    .master('local')\\\n",
    "    .appName('Scope3')\\\n",
    "    .getOrCreate()\n",
    "spark = SparkSession(sc)"
   ]
  },
  {
   "cell_type": "markdown",
   "metadata": {},
   "source": [
    "<a id='2'></a>\n",
    "## 2. Lab"
   ]
  },
  {
   "cell_type": "markdown",
   "metadata": {},
   "source": [
    "<a id='2.1'></a>\n",
    "### 2.1 Check Lab Files\n",
    "\n",
    "In order to complete this lab you need to previosly upload the datasets into HDFS.<br/>\n",
    "\n",
    "Check you have the data ready in HDFS\n",
    "\n",
    "http://localhost:50070/explorer.html#/datalake/raw/san-francisco-bay-bike-sharing/stations/\n",
    "\n",
    "http://localhost:50070/explorer.html#/datalake/raw/san-francisco-bay-bike-sharing/trips/\n"
   ]
  },
  {
   "cell_type": "markdown",
   "metadata": {},
   "source": [
    "<a id='2.2'></a>\n",
    "### 2.2 Create the DataFrames\n",
    "\n",
    "The first step after creating the SparkSession is to create one or more DataFrames<br/>"
   ]
  },
  {
   "cell_type": "code",
   "execution_count": 4,
   "metadata": {},
   "outputs": [
    {
     "name": "stdout",
     "output_type": "stream",
     "text": [
      "  2. Creating the vertices (Sites) and edges (trips) DataFrames from HDFS...\n"
     ]
    }
   ],
   "source": [
    "# 2. Dataframes creation\n",
    "print (\"  2. Creating the vertices (Sites) and edges (trips) DataFrames from HDFS...\")\n",
    "stations = (spark.read\n",
    "        .option(\"header\",\"true\")\n",
    "        .option(\"inferSchema\",\"true\")\n",
    "        .csv(\"hdfs://localhost:9000/datalake/raw/scope3\",sep=\";\")\n",
    "        .limit(10000)\n",
    "        .distinct())\n",
    "# trips = (spark.read\n",
    "#               .option(\"header\",\"true\")\n",
    "#               .option(\"inferSchema\",\"true\") \n",
    "#               .csv(\"hdfs://localhost:9000/datalake/raw/san-francisco-bay-bike-sharing/trips/\"))"
   ]
  },
  {
   "cell_type": "code",
   "execution_count": 5,
   "metadata": {},
   "outputs": [
    {
     "data": {
      "text/html": [
       "<div>\n",
       "<style scoped>\n",
       "    .dataframe tbody tr th:only-of-type {\n",
       "        vertical-align: middle;\n",
       "    }\n",
       "\n",
       "    .dataframe tbody tr th {\n",
       "        vertical-align: top;\n",
       "    }\n",
       "\n",
       "    .dataframe thead th {\n",
       "        text-align: right;\n",
       "    }\n",
       "</style>\n",
       "<table border=\"1\" class=\"dataframe\">\n",
       "  <thead>\n",
       "    <tr style=\"text-align: right;\">\n",
       "      <th></th>\n",
       "      <th>_c0</th>\n",
       "      <th>Origin_Key</th>\n",
       "      <th>Origin_Postal_Code</th>\n",
       "      <th>Origin_City</th>\n",
       "      <th>Origin_Country</th>\n",
       "      <th>Origin_Country_Name</th>\n",
       "      <th>Origin_Region</th>\n",
       "      <th>Origin_Plant</th>\n",
       "      <th>Target_Key</th>\n",
       "      <th>Target_Postal_Code</th>\n",
       "      <th>Target_City</th>\n",
       "      <th>Target_Country</th>\n",
       "      <th>Target_Country_Name</th>\n",
       "      <th>Target_Region</th>\n",
       "      <th>Target_Plant</th>\n",
       "      <th>InBound-OutBound</th>\n",
       "      <th>Amount</th>\n",
       "      <th>Distance</th>\n",
       "      <th>C02 Emission</th>\n",
       "    </tr>\n",
       "  </thead>\n",
       "  <tbody>\n",
       "    <tr>\n",
       "      <th>0</th>\n",
       "      <td>0</td>\n",
       "      <td>014 01-SK</td>\n",
       "      <td>014 01</td>\n",
       "      <td>Bytča</td>\n",
       "      <td>SK</td>\n",
       "      <td>Slovakia</td>\n",
       "      <td>Europe</td>\n",
       "      <td>SK02</td>\n",
       "      <td>010 01-SK</td>\n",
       "      <td>010 01</td>\n",
       "      <td>Žilina</td>\n",
       "      <td>SK</td>\n",
       "      <td>Slovakia</td>\n",
       "      <td>Europe</td>\n",
       "      <td>None</td>\n",
       "      <td>Outbound</td>\n",
       "      <td>3518616.20</td>\n",
       "      <td>20.089</td>\n",
       "      <td>70685.48084</td>\n",
       "    </tr>\n",
       "    <tr>\n",
       "      <th>1</th>\n",
       "      <td>1</td>\n",
       "      <td>014 01-SK</td>\n",
       "      <td>014 01</td>\n",
       "      <td>Bytča</td>\n",
       "      <td>SK</td>\n",
       "      <td>Slovakia</td>\n",
       "      <td>Europe</td>\n",
       "      <td>SK02</td>\n",
       "      <td>010 04-SK</td>\n",
       "      <td>010 04</td>\n",
       "      <td>Žilina</td>\n",
       "      <td>SK</td>\n",
       "      <td>Slovakia</td>\n",
       "      <td>Europe</td>\n",
       "      <td>None</td>\n",
       "      <td>Outbound</td>\n",
       "      <td>1339977.34</td>\n",
       "      <td>20.089</td>\n",
       "      <td>26918.80478</td>\n",
       "    </tr>\n",
       "    <tr>\n",
       "      <th>2</th>\n",
       "      <td>2</td>\n",
       "      <td>014 01-SK</td>\n",
       "      <td>014 01</td>\n",
       "      <td>Bytča</td>\n",
       "      <td>SK</td>\n",
       "      <td>Slovakia</td>\n",
       "      <td>Europe</td>\n",
       "      <td>SK02</td>\n",
       "      <td>542 24-CZ</td>\n",
       "      <td>542 24</td>\n",
       "      <td>Svoboda nad Úpou</td>\n",
       "      <td>CZ</td>\n",
       "      <td>Czechia</td>\n",
       "      <td>Europe</td>\n",
       "      <td>CZ07</td>\n",
       "      <td>Outbound</td>\n",
       "      <td>0.00</td>\n",
       "      <td>342.521</td>\n",
       "      <td>0.00000</td>\n",
       "    </tr>\n",
       "    <tr>\n",
       "      <th>3</th>\n",
       "      <td>3</td>\n",
       "      <td>014 01-SK</td>\n",
       "      <td>014 01</td>\n",
       "      <td>Bytča</td>\n",
       "      <td>SK</td>\n",
       "      <td>Slovakia</td>\n",
       "      <td>Europe</td>\n",
       "      <td>SK02</td>\n",
       "      <td>624 00-CZ</td>\n",
       "      <td>624 00</td>\n",
       "      <td>Brno</td>\n",
       "      <td>CZ</td>\n",
       "      <td>Czechia</td>\n",
       "      <td>Europe</td>\n",
       "      <td>CZ01</td>\n",
       "      <td>Outbound</td>\n",
       "      <td>0.00</td>\n",
       "      <td>192.000</td>\n",
       "      <td>0.00000</td>\n",
       "    </tr>\n",
       "    <tr>\n",
       "      <th>4</th>\n",
       "      <td>4</td>\n",
       "      <td>014 01-SK</td>\n",
       "      <td>014 01</td>\n",
       "      <td>Bytča</td>\n",
       "      <td>SK</td>\n",
       "      <td>Slovakia</td>\n",
       "      <td>Europe</td>\n",
       "      <td>SK02</td>\n",
       "      <td>901 01-SK</td>\n",
       "      <td>901 01</td>\n",
       "      <td>Malacky</td>\n",
       "      <td>SK</td>\n",
       "      <td>Slovakia</td>\n",
       "      <td>Europe</td>\n",
       "      <td>None</td>\n",
       "      <td>Outbound</td>\n",
       "      <td>2483405.89</td>\n",
       "      <td>223.439</td>\n",
       "      <td>554889.72870</td>\n",
       "    </tr>\n",
       "  </tbody>\n",
       "</table>\n",
       "</div>"
      ],
      "text/plain": [
       "   _c0 Origin_Key Origin_Postal_Code Origin_City Origin_Country  \\\n",
       "0    0  014 01-SK             014 01       Bytča             SK   \n",
       "1    1  014 01-SK             014 01       Bytča             SK   \n",
       "2    2  014 01-SK             014 01       Bytča             SK   \n",
       "3    3  014 01-SK             014 01       Bytča             SK   \n",
       "4    4  014 01-SK             014 01       Bytča             SK   \n",
       "\n",
       "  Origin_Country_Name Origin_Region Origin_Plant Target_Key  \\\n",
       "0            Slovakia        Europe         SK02  010 01-SK   \n",
       "1            Slovakia        Europe         SK02  010 04-SK   \n",
       "2            Slovakia        Europe         SK02  542 24-CZ   \n",
       "3            Slovakia        Europe         SK02  624 00-CZ   \n",
       "4            Slovakia        Europe         SK02  901 01-SK   \n",
       "\n",
       "  Target_Postal_Code       Target_City Target_Country Target_Country_Name  \\\n",
       "0             010 01            Žilina             SK            Slovakia   \n",
       "1             010 04            Žilina             SK            Slovakia   \n",
       "2             542 24  Svoboda nad Úpou             CZ             Czechia   \n",
       "3             624 00              Brno             CZ             Czechia   \n",
       "4             901 01           Malacky             SK            Slovakia   \n",
       "\n",
       "  Target_Region Target_Plant InBound-OutBound      Amount  Distance  \\\n",
       "0        Europe         None         Outbound  3518616.20    20.089   \n",
       "1        Europe         None         Outbound  1339977.34    20.089   \n",
       "2        Europe         CZ07         Outbound        0.00   342.521   \n",
       "3        Europe         CZ01         Outbound        0.00   192.000   \n",
       "4        Europe         None         Outbound  2483405.89   223.439   \n",
       "\n",
       "   C02 Emission  \n",
       "0   70685.48084  \n",
       "1   26918.80478  \n",
       "2       0.00000  \n",
       "3       0.00000  \n",
       "4  554889.72870  "
      ]
     },
     "execution_count": 5,
     "metadata": {},
     "output_type": "execute_result"
    }
   ],
   "source": [
    "stations.limit(5).toPandas()"
   ]
  },
  {
   "cell_type": "markdown",
   "metadata": {},
   "source": [
    "The data is related to different areas in San Francisco"
   ]
  },
  {
   "cell_type": "code",
   "execution_count": 6,
   "metadata": {},
   "outputs": [
    {
     "data": {
      "text/html": [
       "<div>\n",
       "<style scoped>\n",
       "    .dataframe tbody tr th:only-of-type {\n",
       "        vertical-align: middle;\n",
       "    }\n",
       "\n",
       "    .dataframe tbody tr th {\n",
       "        vertical-align: top;\n",
       "    }\n",
       "\n",
       "    .dataframe thead th {\n",
       "        text-align: right;\n",
       "    }\n",
       "</style>\n",
       "<table border=\"1\" class=\"dataframe\">\n",
       "  <thead>\n",
       "    <tr style=\"text-align: right;\">\n",
       "      <th></th>\n",
       "      <th>Origin_Country_Name</th>\n",
       "    </tr>\n",
       "  </thead>\n",
       "  <tbody>\n",
       "    <tr>\n",
       "      <th>0</th>\n",
       "      <td>Slovakia</td>\n",
       "    </tr>\n",
       "    <tr>\n",
       "      <th>1</th>\n",
       "      <td>Finland</td>\n",
       "    </tr>\n",
       "    <tr>\n",
       "      <th>2</th>\n",
       "      <td>Poland</td>\n",
       "    </tr>\n",
       "    <tr>\n",
       "      <th>3</th>\n",
       "      <td>Spain</td>\n",
       "    </tr>\n",
       "    <tr>\n",
       "      <th>4</th>\n",
       "      <td>Romania</td>\n",
       "    </tr>\n",
       "    <tr>\n",
       "      <th>5</th>\n",
       "      <td>Iceland</td>\n",
       "    </tr>\n",
       "    <tr>\n",
       "      <th>6</th>\n",
       "      <td>Czechia</td>\n",
       "    </tr>\n",
       "    <tr>\n",
       "      <th>7</th>\n",
       "      <td>Slovenia</td>\n",
       "    </tr>\n",
       "    <tr>\n",
       "      <th>8</th>\n",
       "      <td>France</td>\n",
       "    </tr>\n",
       "    <tr>\n",
       "      <th>9</th>\n",
       "      <td>Russian Federation</td>\n",
       "    </tr>\n",
       "    <tr>\n",
       "      <th>10</th>\n",
       "      <td>Norway</td>\n",
       "    </tr>\n",
       "    <tr>\n",
       "      <th>11</th>\n",
       "      <td>Sweden</td>\n",
       "    </tr>\n",
       "    <tr>\n",
       "      <th>12</th>\n",
       "      <td>Italy</td>\n",
       "    </tr>\n",
       "    <tr>\n",
       "      <th>13</th>\n",
       "      <td>Hungary</td>\n",
       "    </tr>\n",
       "    <tr>\n",
       "      <th>14</th>\n",
       "      <td>Belgium</td>\n",
       "    </tr>\n",
       "    <tr>\n",
       "      <th>15</th>\n",
       "      <td>Serbia</td>\n",
       "    </tr>\n",
       "    <tr>\n",
       "      <th>16</th>\n",
       "      <td>Germany</td>\n",
       "    </tr>\n",
       "    <tr>\n",
       "      <th>17</th>\n",
       "      <td>Austria</td>\n",
       "    </tr>\n",
       "    <tr>\n",
       "      <th>18</th>\n",
       "      <td>Denmark</td>\n",
       "    </tr>\n",
       "    <tr>\n",
       "      <th>19</th>\n",
       "      <td>Switzerland</td>\n",
       "    </tr>\n",
       "    <tr>\n",
       "      <th>20</th>\n",
       "      <td>Netherlands</td>\n",
       "    </tr>\n",
       "    <tr>\n",
       "      <th>21</th>\n",
       "      <td>Portugal</td>\n",
       "    </tr>\n",
       "    <tr>\n",
       "      <th>22</th>\n",
       "      <td>Estonia</td>\n",
       "    </tr>\n",
       "    <tr>\n",
       "      <th>23</th>\n",
       "      <td>United Kingdom of Great Britain and Northern I...</td>\n",
       "    </tr>\n",
       "    <tr>\n",
       "      <th>24</th>\n",
       "      <td>Ireland</td>\n",
       "    </tr>\n",
       "    <tr>\n",
       "      <th>25</th>\n",
       "      <td>Latvia</td>\n",
       "    </tr>\n",
       "    <tr>\n",
       "      <th>26</th>\n",
       "      <td>Albania</td>\n",
       "    </tr>\n",
       "  </tbody>\n",
       "</table>\n",
       "</div>"
      ],
      "text/plain": [
       "                                  Origin_Country_Name\n",
       "0                                            Slovakia\n",
       "1                                             Finland\n",
       "2                                              Poland\n",
       "3                                               Spain\n",
       "4                                             Romania\n",
       "5                                             Iceland\n",
       "6                                             Czechia\n",
       "7                                            Slovenia\n",
       "8                                              France\n",
       "9                                  Russian Federation\n",
       "10                                             Norway\n",
       "11                                             Sweden\n",
       "12                                              Italy\n",
       "13                                            Hungary\n",
       "14                                            Belgium\n",
       "15                                             Serbia\n",
       "16                                            Germany\n",
       "17                                            Austria\n",
       "18                                            Denmark\n",
       "19                                        Switzerland\n",
       "20                                        Netherlands\n",
       "21                                           Portugal\n",
       "22                                            Estonia\n",
       "23  United Kingdom of Great Britain and Northern I...\n",
       "24                                            Ireland\n",
       "25                                             Latvia\n",
       "26                                            Albania"
      ]
     },
     "execution_count": 6,
     "metadata": {},
     "output_type": "execute_result"
    }
   ],
   "source": [
    "stations.select(\"Origin_Country_Name\").distinct().toPandas()"
   ]
  },
  {
   "cell_type": "markdown",
   "metadata": {},
   "source": [
    "<a id='2.3'></a>\n",
    "### 2.3 Create the GraphFrame\n",
    "\n",
    "We are going to model our graph in the following way:<br/>\n",
    "**vertices** : stations <br/>\n",
    "**edges** : trips aggregation"
   ]
  },
  {
   "cell_type": "code",
   "execution_count": 10,
   "metadata": {},
   "outputs": [
    {
     "name": "stdout",
     "output_type": "stream",
     "text": [
      "  2a. Creating the vertices\n",
      "  2b. Creating the edges\n"
     ]
    },
    {
     "data": {
      "text/plain": [
       "GraphFrame(v:[id: string], e:[src: string, dst: string ... 4 more fields])"
      ]
     },
     "execution_count": 10,
     "metadata": {},
     "output_type": "execute_result"
    }
   ],
   "source": [
    "from pyspark.sql.functions import count,avg,desc,asc,col\n",
    "from graphframes import GraphFrame\n",
    "\n",
    "print (\"  2a. Creating the vertices\")\n",
    "origin_keys=stations.select(\"Origin_Key\").distinct()\n",
    "target_keys=stations.select(\"Target_Key\").distinct()\n",
    "nodes=origin_keys.union(target_keys).distinct()\n",
    "print (\"  2b. Creating the edges\")\n",
    "# edges=stations.select(\"Origin_Key\",'Target_Key').distinct(\n",
    "\n",
    "# GraphFrames requires the vertices DataFrame to have a column named id.\n",
    "vertices = nodes.withColumnRenamed(\"Origin_Key\",\"id\")\n",
    "    \n",
    "# GraphFrames requires the edges DataFrame to have columns named src and dst\n",
    "trips = (stations.withColumnRenamed(\"Origin_Key\", \"src\")\n",
    "              .withColumnRenamed(\"Target_Key\", \"dst\")\n",
    "              .withColumnRenamed(\"Origin_Country_Name\",\"ctry\"))\n",
    "              \n",
    "edges = (trips.groupBy(\"src\", \"dst\",\"ctry\")\n",
    "              .agg(\n",
    "                  count(\"*\").alias(\"trip_count\"),\n",
    "                  avg(\"Distance\").alias(\"Distance_avg\"),\n",
    "                  avg(\"C02 Emission\").alias(\"C02Emission_avg\")\n",
    "              ))\n",
    "\n",
    "\n",
    "     \n",
    "# Creates the graph\n",
    "graph = GraphFrame(vertices, edges)\n",
    "\n",
    "# graph processing requires recursive/iterative calculations so is a good practice to cache\n",
    "graph.cache()"
   ]
  },
  {
   "cell_type": "code",
   "execution_count": null,
   "metadata": {},
   "outputs": [],
   "source": [
    "### 2.2 Exploratory analysis"
   ]
  },
  {
   "cell_type": "code",
   "execution_count": 25,
   "metadata": {},
   "outputs": [
    {
     "name": "stderr",
     "output_type": "stream",
     "text": [
      "                                                                                \r"
     ]
    },
    {
     "data": {
      "text/plain": [
       "5470"
      ]
     },
     "execution_count": 25,
     "metadata": {},
     "output_type": "execute_result"
    }
   ],
   "source": [
    "graph.vertices.count()"
   ]
  },
  {
   "cell_type": "code",
   "execution_count": 26,
   "metadata": {},
   "outputs": [
    {
     "data": {
      "text/plain": [
       "7952"
      ]
     },
     "execution_count": 26,
     "metadata": {},
     "output_type": "execute_result"
    }
   ],
   "source": [
    "graph.edges.count()"
   ]
  },
  {
   "cell_type": "code",
   "execution_count": null,
   "metadata": {},
   "outputs": [],
   "source": [
    "degree = join(\"id\")"
   ]
  },
  {
   "cell_type": "code",
   "execution_count": 11,
   "metadata": {},
   "outputs": [
    {
     "data": {
      "text/html": [
       "<div>\n",
       "<style scoped>\n",
       "    .dataframe tbody tr th:only-of-type {\n",
       "        vertical-align: middle;\n",
       "    }\n",
       "\n",
       "    .dataframe tbody tr th {\n",
       "        vertical-align: top;\n",
       "    }\n",
       "\n",
       "    .dataframe thead th {\n",
       "        text-align: right;\n",
       "    }\n",
       "</style>\n",
       "<table border=\"1\" class=\"dataframe\">\n",
       "  <thead>\n",
       "    <tr style=\"text-align: right;\">\n",
       "      <th></th>\n",
       "      <th>id</th>\n",
       "    </tr>\n",
       "  </thead>\n",
       "  <tbody>\n",
       "    <tr>\n",
       "      <th>0</th>\n",
       "      <td>01740-FI</td>\n",
       "    </tr>\n",
       "    <tr>\n",
       "      <th>1</th>\n",
       "      <td>69745-FR</td>\n",
       "    </tr>\n",
       "    <tr>\n",
       "      <th>2</th>\n",
       "      <td>01510-FI</td>\n",
       "    </tr>\n",
       "    <tr>\n",
       "      <th>3</th>\n",
       "      <td>97-350-PL</td>\n",
       "    </tr>\n",
       "    <tr>\n",
       "      <th>4</th>\n",
       "      <td>601220-RU</td>\n",
       "    </tr>\n",
       "  </tbody>\n",
       "</table>\n",
       "</div>"
      ],
      "text/plain": [
       "          id\n",
       "0   01740-FI\n",
       "1   69745-FR\n",
       "2   01510-FI\n",
       "3  97-350-PL\n",
       "4  601220-RU"
      ]
     },
     "execution_count": 11,
     "metadata": {},
     "output_type": "execute_result"
    }
   ],
   "source": [
    "graph.vertices.limit(5).toPandas()"
   ]
  },
  {
   "cell_type": "code",
   "execution_count": 12,
   "metadata": {},
   "outputs": [
    {
     "data": {
      "text/html": [
       "<div>\n",
       "<style scoped>\n",
       "    .dataframe tbody tr th:only-of-type {\n",
       "        vertical-align: middle;\n",
       "    }\n",
       "\n",
       "    .dataframe tbody tr th {\n",
       "        vertical-align: top;\n",
       "    }\n",
       "\n",
       "    .dataframe thead th {\n",
       "        text-align: right;\n",
       "    }\n",
       "</style>\n",
       "<table border=\"1\" class=\"dataframe\">\n",
       "  <thead>\n",
       "    <tr style=\"text-align: right;\">\n",
       "      <th></th>\n",
       "      <th>src</th>\n",
       "      <th>dst</th>\n",
       "      <th>ctry</th>\n",
       "      <th>trip_count</th>\n",
       "      <th>Distance_avg</th>\n",
       "      <th>C02Emission_avg</th>\n",
       "    </tr>\n",
       "  </thead>\n",
       "  <tbody>\n",
       "    <tr>\n",
       "      <th>0</th>\n",
       "      <td>014 01-SK</td>\n",
       "      <td>010 01-SK</td>\n",
       "      <td>Slovakia</td>\n",
       "      <td>1</td>\n",
       "      <td>20.089</td>\n",
       "      <td>70685.48084</td>\n",
       "    </tr>\n",
       "    <tr>\n",
       "      <th>1</th>\n",
       "      <td>014 01-SK</td>\n",
       "      <td>010 04-SK</td>\n",
       "      <td>Slovakia</td>\n",
       "      <td>1</td>\n",
       "      <td>20.089</td>\n",
       "      <td>26918.80478</td>\n",
       "    </tr>\n",
       "    <tr>\n",
       "      <th>2</th>\n",
       "      <td>014 01-SK</td>\n",
       "      <td>542 24-CZ</td>\n",
       "      <td>Slovakia</td>\n",
       "      <td>2</td>\n",
       "      <td>342.521</td>\n",
       "      <td>386631.30480</td>\n",
       "    </tr>\n",
       "    <tr>\n",
       "      <th>3</th>\n",
       "      <td>014 01-SK</td>\n",
       "      <td>624 00-CZ</td>\n",
       "      <td>Slovakia</td>\n",
       "      <td>2</td>\n",
       "      <td>192.000</td>\n",
       "      <td>301512.28610</td>\n",
       "    </tr>\n",
       "    <tr>\n",
       "      <th>4</th>\n",
       "      <td>014 01-SK</td>\n",
       "      <td>901 01-SK</td>\n",
       "      <td>Slovakia</td>\n",
       "      <td>1</td>\n",
       "      <td>223.439</td>\n",
       "      <td>554889.72870</td>\n",
       "    </tr>\n",
       "  </tbody>\n",
       "</table>\n",
       "</div>"
      ],
      "text/plain": [
       "         src        dst      ctry  trip_count  Distance_avg  C02Emission_avg\n",
       "0  014 01-SK  010 01-SK  Slovakia           1        20.089      70685.48084\n",
       "1  014 01-SK  010 04-SK  Slovakia           1        20.089      26918.80478\n",
       "2  014 01-SK  542 24-CZ  Slovakia           2       342.521     386631.30480\n",
       "3  014 01-SK  624 00-CZ  Slovakia           2       192.000     301512.28610\n",
       "4  014 01-SK  901 01-SK  Slovakia           1       223.439     554889.72870"
      ]
     },
     "execution_count": 12,
     "metadata": {},
     "output_type": "execute_result"
    }
   ],
   "source": [
    "graph.edges.limit(5).toPandas()"
   ]
  },
  {
   "cell_type": "markdown",
   "metadata": {},
   "source": [
    "Let's create a subgraph for the sake of practicing with the stations related to \"San Francisco\""
   ]
  },
  {
   "cell_type": "code",
   "execution_count": null,
   "metadata": {},
   "outputs": [],
   "source": [
    "# subgraph not working "
   ]
  },
  {
   "cell_type": "code",
   "execution_count": 13,
   "metadata": {},
   "outputs": [],
   "source": [
    "subgraph = GraphFrame(graph.vertices.where(\"'Origin_Country_Name'='Poland'\"),graph.edges)"
   ]
  },
  {
   "cell_type": "markdown",
   "metadata": {},
   "source": [
    "<a id='2.4'></a>\n",
    "### 2.4 Analytics"
   ]
  },
  {
   "cell_type": "markdown",
   "metadata": {},
   "source": [
    "#### which are the top 5 most common routes?"
   ]
  },
  {
   "cell_type": "code",
   "execution_count": 27,
   "metadata": {},
   "outputs": [
    {
     "data": {
      "text/html": [
       "<div>\n",
       "<style scoped>\n",
       "    .dataframe tbody tr th:only-of-type {\n",
       "        vertical-align: middle;\n",
       "    }\n",
       "\n",
       "    .dataframe tbody tr th {\n",
       "        vertical-align: top;\n",
       "    }\n",
       "\n",
       "    .dataframe thead th {\n",
       "        text-align: right;\n",
       "    }\n",
       "</style>\n",
       "<table border=\"1\" class=\"dataframe\">\n",
       "  <thead>\n",
       "    <tr style=\"text-align: right;\">\n",
       "      <th></th>\n",
       "      <th>src</th>\n",
       "      <th>dst</th>\n",
       "      <th>ctry</th>\n",
       "      <th>trip_count</th>\n",
       "      <th>Distance_avg</th>\n",
       "      <th>C02Emission_avg</th>\n",
       "    </tr>\n",
       "  </thead>\n",
       "  <tbody>\n",
       "    <tr>\n",
       "      <th>0</th>\n",
       "      <td>70499-DE</td>\n",
       "      <td>28108-ES</td>\n",
       "      <td>Germany</td>\n",
       "      <td>1</td>\n",
       "      <td>1738.000</td>\n",
       "      <td>9.810938e+07</td>\n",
       "    </tr>\n",
       "    <tr>\n",
       "      <th>1</th>\n",
       "      <td>28065-IT</td>\n",
       "      <td>70499-DE</td>\n",
       "      <td>Italy</td>\n",
       "      <td>1</td>\n",
       "      <td>527.000</td>\n",
       "      <td>6.895565e+07</td>\n",
       "    </tr>\n",
       "    <tr>\n",
       "      <th>2</th>\n",
       "      <td>70499-DE</td>\n",
       "      <td>93350-FR</td>\n",
       "      <td>Germany</td>\n",
       "      <td>1</td>\n",
       "      <td>616.000</td>\n",
       "      <td>6.671284e+07</td>\n",
       "    </tr>\n",
       "    <tr>\n",
       "      <th>3</th>\n",
       "      <td>70499-DE</td>\n",
       "      <td>02-871-PL</td>\n",
       "      <td>Germany</td>\n",
       "      <td>1</td>\n",
       "      <td>1117.000</td>\n",
       "      <td>6.035363e+07</td>\n",
       "    </tr>\n",
       "    <tr>\n",
       "      <th>4</th>\n",
       "      <td>70499-DE</td>\n",
       "      <td>163 53-SE</td>\n",
       "      <td>Germany</td>\n",
       "      <td>1</td>\n",
       "      <td>1628.000</td>\n",
       "      <td>5.821910e+07</td>\n",
       "    </tr>\n",
       "    <tr>\n",
       "      <th>5</th>\n",
       "      <td>22525-DE</td>\n",
       "      <td>6060-CH</td>\n",
       "      <td>Germany</td>\n",
       "      <td>2</td>\n",
       "      <td>935.000</td>\n",
       "      <td>5.008933e+07</td>\n",
       "    </tr>\n",
       "    <tr>\n",
       "      <th>6</th>\n",
       "      <td>172384-RU</td>\n",
       "      <td>6060-CH</td>\n",
       "      <td>Russian Federation</td>\n",
       "      <td>1</td>\n",
       "      <td>2565.000</td>\n",
       "      <td>4.822219e+07</td>\n",
       "    </tr>\n",
       "    <tr>\n",
       "      <th>7</th>\n",
       "      <td>70499-DE</td>\n",
       "      <td>141733-RU</td>\n",
       "      <td>Germany</td>\n",
       "      <td>1</td>\n",
       "      <td>2390.657</td>\n",
       "      <td>4.747026e+07</td>\n",
       "    </tr>\n",
       "    <tr>\n",
       "      <th>8</th>\n",
       "      <td>8048-CH</td>\n",
       "      <td>70499-DE</td>\n",
       "      <td>Switzerland</td>\n",
       "      <td>1</td>\n",
       "      <td>220.000</td>\n",
       "      <td>4.683349e+07</td>\n",
       "    </tr>\n",
       "    <tr>\n",
       "      <th>9</th>\n",
       "      <td>01740-FI</td>\n",
       "      <td>6060-CH</td>\n",
       "      <td>Finland</td>\n",
       "      <td>1</td>\n",
       "      <td>2374.424</td>\n",
       "      <td>4.520766e+07</td>\n",
       "    </tr>\n",
       "  </tbody>\n",
       "</table>\n",
       "</div>"
      ],
      "text/plain": [
       "         src        dst                ctry  trip_count  Distance_avg  \\\n",
       "0   70499-DE   28108-ES             Germany           1      1738.000   \n",
       "1   28065-IT   70499-DE               Italy           1       527.000   \n",
       "2   70499-DE   93350-FR             Germany           1       616.000   \n",
       "3   70499-DE  02-871-PL             Germany           1      1117.000   \n",
       "4   70499-DE  163 53-SE             Germany           1      1628.000   \n",
       "5   22525-DE    6060-CH             Germany           2       935.000   \n",
       "6  172384-RU    6060-CH  Russian Federation           1      2565.000   \n",
       "7   70499-DE  141733-RU             Germany           1      2390.657   \n",
       "8    8048-CH   70499-DE         Switzerland           1       220.000   \n",
       "9   01740-FI    6060-CH             Finland           1      2374.424   \n",
       "\n",
       "   C02Emission_avg  \n",
       "0     9.810938e+07  \n",
       "1     6.895565e+07  \n",
       "2     6.671284e+07  \n",
       "3     6.035363e+07  \n",
       "4     5.821910e+07  \n",
       "5     5.008933e+07  \n",
       "6     4.822219e+07  \n",
       "7     4.747026e+07  \n",
       "8     4.683349e+07  \n",
       "9     4.520766e+07  "
      ]
     },
     "execution_count": 27,
     "metadata": {},
     "output_type": "execute_result"
    }
   ],
   "source": [
    "routes = subgraph.edges.orderBy(desc(\"C02Emission_avg\"))\n",
    "\n",
    "routes.limit(10).toPandas()"
   ]
  },
  {
   "cell_type": "markdown",
   "metadata": {},
   "source": [
    "#### Which are the stations where most of the trips depart from?"
   ]
  },
  {
   "cell_type": "code",
   "execution_count": 28,
   "metadata": {},
   "outputs": [
    {
     "data": {
      "text/html": [
       "<div>\n",
       "<style scoped>\n",
       "    .dataframe tbody tr th:only-of-type {\n",
       "        vertical-align: middle;\n",
       "    }\n",
       "\n",
       "    .dataframe tbody tr th {\n",
       "        vertical-align: top;\n",
       "    }\n",
       "\n",
       "    .dataframe thead th {\n",
       "        text-align: right;\n",
       "    }\n",
       "</style>\n",
       "<table border=\"1\" class=\"dataframe\">\n",
       "  <thead>\n",
       "    <tr style=\"text-align: right;\">\n",
       "      <th></th>\n",
       "      <th>id</th>\n",
       "      <th>outDegree</th>\n",
       "    </tr>\n",
       "  </thead>\n",
       "  <tbody>\n",
       "    <tr>\n",
       "      <th>0</th>\n",
       "      <td>76220-FR</td>\n",
       "      <td>541</td>\n",
       "    </tr>\n",
       "    <tr>\n",
       "      <th>1</th>\n",
       "      <td>70499-DE</td>\n",
       "      <td>489</td>\n",
       "    </tr>\n",
       "    <tr>\n",
       "      <th>2</th>\n",
       "      <td>22525-DE</td>\n",
       "      <td>465</td>\n",
       "    </tr>\n",
       "    <tr>\n",
       "      <th>3</th>\n",
       "      <td>70439-DE</td>\n",
       "      <td>358</td>\n",
       "    </tr>\n",
       "    <tr>\n",
       "      <th>4</th>\n",
       "      <td>48720-DE</td>\n",
       "      <td>325</td>\n",
       "    </tr>\n",
       "    <tr>\n",
       "      <th>5</th>\n",
       "      <td>28108-ES</td>\n",
       "      <td>300</td>\n",
       "    </tr>\n",
       "    <tr>\n",
       "      <th>6</th>\n",
       "      <td>LU5 5UL-GB</td>\n",
       "      <td>300</td>\n",
       "    </tr>\n",
       "    <tr>\n",
       "      <th>7</th>\n",
       "      <td>02-871-PL</td>\n",
       "      <td>285</td>\n",
       "    </tr>\n",
       "    <tr>\n",
       "      <th>8</th>\n",
       "      <td>41049-IT</td>\n",
       "      <td>280</td>\n",
       "    </tr>\n",
       "    <tr>\n",
       "      <th>9</th>\n",
       "      <td>5242-CH</td>\n",
       "      <td>269</td>\n",
       "    </tr>\n",
       "  </tbody>\n",
       "</table>\n",
       "</div>"
      ],
      "text/plain": [
       "           id  outDegree\n",
       "0    76220-FR        541\n",
       "1    70499-DE        489\n",
       "2    22525-DE        465\n",
       "3    70439-DE        358\n",
       "4    48720-DE        325\n",
       "5    28108-ES        300\n",
       "6  LU5 5UL-GB        300\n",
       "7   02-871-PL        285\n",
       "8    41049-IT        280\n",
       "9     5242-CH        269"
      ]
     },
     "execution_count": 28,
     "metadata": {},
     "output_type": "execute_result"
    }
   ],
   "source": [
    "outDeg = subgraph.outDegrees\n",
    "outDeg.orderBy(desc(\"outDegree\"),asc(\"id\")).limit(10).toPandas()"
   ]
  },
  {
   "cell_type": "markdown",
   "metadata": {},
   "source": [
    "Let's get the names"
   ]
  },
  {
   "cell_type": "code",
   "execution_count": 37,
   "metadata": {},
   "outputs": [
    {
     "data": {
      "image/png": "[encoded data removed]",
      "text/plain": [
       "<Figure size 432x288 with 1 Axes>"
      ]
     },
     "metadata": {},
     "output_type": "display_data"
    }
   ],
   "source": [
    "import pandas as pd\n",
    "from tabulate import tabulate\n",
    "import matplotlib.pyplot as plt\n",
    "\n",
    "plt.style.use('fivethirtyeight')\n",
    "\n",
    "ax = (outDeg\n",
    "      .toPandas()\n",
    "      .head(10)\n",
    "      .plot(kind='bar', x='id', y='outDegree', legend=None))\n",
    "\n",
    "ax.xaxis.set_label_text(\"\")\n",
    "#plt.yscale(\"log\")\n",
    "plt.xticks(rotation=45)\n",
    "plt.tight_layout()\n",
    "plt.show()"
   ]
  },
  {
   "cell_type": "code",
   "execution_count": 18,
   "metadata": {},
   "outputs": [
    {
     "data": {
      "text/html": [
       "<div>\n",
       "<style scoped>\n",
       "    .dataframe tbody tr th:only-of-type {\n",
       "        vertical-align: middle;\n",
       "    }\n",
       "\n",
       "    .dataframe tbody tr th {\n",
       "        vertical-align: top;\n",
       "    }\n",
       "\n",
       "    .dataframe thead th {\n",
       "        text-align: right;\n",
       "    }\n",
       "</style>\n",
       "<table border=\"1\" class=\"dataframe\">\n",
       "  <thead>\n",
       "    <tr style=\"text-align: right;\">\n",
       "      <th></th>\n",
       "      <th>id</th>\n",
       "      <th>outDegree</th>\n",
       "    </tr>\n",
       "  </thead>\n",
       "  <tbody>\n",
       "    <tr>\n",
       "      <th>0</th>\n",
       "      <td>76220-FR</td>\n",
       "      <td>541</td>\n",
       "    </tr>\n",
       "    <tr>\n",
       "      <th>1</th>\n",
       "      <td>70499-DE</td>\n",
       "      <td>489</td>\n",
       "    </tr>\n",
       "    <tr>\n",
       "      <th>2</th>\n",
       "      <td>22525-DE</td>\n",
       "      <td>465</td>\n",
       "    </tr>\n",
       "    <tr>\n",
       "      <th>3</th>\n",
       "      <td>70439-DE</td>\n",
       "      <td>358</td>\n",
       "    </tr>\n",
       "    <tr>\n",
       "      <th>4</th>\n",
       "      <td>48720-DE</td>\n",
       "      <td>325</td>\n",
       "    </tr>\n",
       "  </tbody>\n",
       "</table>\n",
       "</div>"
      ],
      "text/plain": [
       "         id  outDegree\n",
       "0  76220-FR        541\n",
       "1  70499-DE        489\n",
       "2  22525-DE        465\n",
       "3  70439-DE        358\n",
       "4  48720-DE        325"
      ]
     },
     "execution_count": 18,
     "metadata": {},
     "output_type": "execute_result"
    }
   ],
   "source": [
    "outDeg.join(graph.vertices,\"id\").orderBy(desc(\"outDegree\"),asc(\"id\")).limit(5).toPandas()"
   ]
  },
  {
   "cell_type": "markdown",
   "metadata": {},
   "source": [
    "#### Which are the stations where most of the trips get to?"
   ]
  },
  {
   "cell_type": "code",
   "execution_count": 39,
   "metadata": {},
   "outputs": [
    {
     "data": {
      "text/html": [
       "<div>\n",
       "<style scoped>\n",
       "    .dataframe tbody tr th:only-of-type {\n",
       "        vertical-align: middle;\n",
       "    }\n",
       "\n",
       "    .dataframe tbody tr th {\n",
       "        vertical-align: top;\n",
       "    }\n",
       "\n",
       "    .dataframe thead th {\n",
       "        text-align: right;\n",
       "    }\n",
       "</style>\n",
       "<table border=\"1\" class=\"dataframe\">\n",
       "  <thead>\n",
       "    <tr style=\"text-align: right;\">\n",
       "      <th></th>\n",
       "      <th>id</th>\n",
       "      <th>inDegree</th>\n",
       "    </tr>\n",
       "  </thead>\n",
       "  <tbody>\n",
       "    <tr>\n",
       "      <th>0</th>\n",
       "      <td>70439-DE</td>\n",
       "      <td>52</td>\n",
       "    </tr>\n",
       "    <tr>\n",
       "      <th>1</th>\n",
       "      <td>8048-CH</td>\n",
       "      <td>43</td>\n",
       "    </tr>\n",
       "    <tr>\n",
       "      <th>2</th>\n",
       "      <td>6700-AT</td>\n",
       "      <td>42</td>\n",
       "    </tr>\n",
       "    <tr>\n",
       "      <th>3</th>\n",
       "      <td>20068-IT</td>\n",
       "      <td>40</td>\n",
       "    </tr>\n",
       "    <tr>\n",
       "      <th>4</th>\n",
       "      <td>6060-CH</td>\n",
       "      <td>39</td>\n",
       "    </tr>\n",
       "  </tbody>\n",
       "</table>\n",
       "</div>"
      ],
      "text/plain": [
       "         id  inDegree\n",
       "0  70439-DE        52\n",
       "1   8048-CH        43\n",
       "2   6700-AT        42\n",
       "3  20068-IT        40\n",
       "4   6060-CH        39"
      ]
     },
     "execution_count": 39,
     "metadata": {},
     "output_type": "execute_result"
    }
   ],
   "source": [
    "inDeg = subgraph.inDegrees\n",
    "inDeg.orderBy(desc(\"inDegree\"),asc(\"id\")).limit(5).toPandas()"
   ]
  },
  {
   "cell_type": "code",
   "execution_count": 40,
   "metadata": {},
   "outputs": [
    {
     "data": {
      "image/png": "[encoded data removed]",
      "text/plain": [
       "<Figure size 432x288 with 1 Axes>"
      ]
     },
     "metadata": {},
     "output_type": "display_data"
    }
   ],
   "source": [
    "import pandas as pd\n",
    "from tabulate import tabulate\n",
    "import matplotlib.pyplot as plt\n",
    "\n",
    "plt.style.use('fivethirtyeight')\n",
    "\n",
    "ax = (inDeg\n",
    "      .toPandas()\n",
    "      .head(10)\n",
    "      .plot(kind='bar', x='id', y='inDegree', legend=None))\n",
    "\n",
    "ax.xaxis.set_label_text(\"\")\n",
    "#plt.yscale(\"log\")\n",
    "plt.xticks(rotation=45)\n",
    "plt.tight_layout()\n",
    "plt.show()"
   ]
  },
  {
   "cell_type": "code",
   "execution_count": 20,
   "metadata": {},
   "outputs": [
    {
     "data": {
      "text/html": [
       "<div>\n",
       "<style scoped>\n",
       "    .dataframe tbody tr th:only-of-type {\n",
       "        vertical-align: middle;\n",
       "    }\n",
       "\n",
       "    .dataframe tbody tr th {\n",
       "        vertical-align: top;\n",
       "    }\n",
       "\n",
       "    .dataframe thead th {\n",
       "        text-align: right;\n",
       "    }\n",
       "</style>\n",
       "<table border=\"1\" class=\"dataframe\">\n",
       "  <thead>\n",
       "    <tr style=\"text-align: right;\">\n",
       "      <th></th>\n",
       "      <th>id</th>\n",
       "      <th>inDegree</th>\n",
       "    </tr>\n",
       "  </thead>\n",
       "  <tbody>\n",
       "  </tbody>\n",
       "</table>\n",
       "</div>"
      ],
      "text/plain": [
       "Empty DataFrame\n",
       "Columns: [id, inDegree]\n",
       "Index: []"
      ]
     },
     "execution_count": 20,
     "metadata": {},
     "output_type": "execute_result"
    }
   ],
   "source": [
    "inDeg.join(subgraph.vertices,\"id\").orderBy(desc(\"inDegree\"),asc(\"id\")).limit(5).toPandas()"
   ]
  },
  {
   "cell_type": "markdown",
   "metadata": {},
   "source": [
    "#### which are the most relevant stations?\n",
    "We are going to apply the Page Ranks algorithm"
   ]
  },
  {
   "cell_type": "code",
   "execution_count": 21,
   "metadata": {},
   "outputs": [],
   "source": [
    "ranks = subgraph.pageRank(resetProbability=0.15, maxIter=10)"
   ]
  },
  {
   "cell_type": "markdown",
   "metadata": {},
   "source": [
    "The algorithm returns a GraphFrame. <br/>\n",
    "Notice we now have a new column in the vertices DataFrame called **pagerank**"
   ]
  },
  {
   "cell_type": "code",
   "execution_count": 22,
   "metadata": {},
   "outputs": [
    {
     "data": {
      "text/html": [
       "<div>\n",
       "<style scoped>\n",
       "    .dataframe tbody tr th:only-of-type {\n",
       "        vertical-align: middle;\n",
       "    }\n",
       "\n",
       "    .dataframe tbody tr th {\n",
       "        vertical-align: top;\n",
       "    }\n",
       "\n",
       "    .dataframe thead th {\n",
       "        text-align: right;\n",
       "    }\n",
       "</style>\n",
       "<table border=\"1\" class=\"dataframe\">\n",
       "  <thead>\n",
       "    <tr style=\"text-align: right;\">\n",
       "      <th></th>\n",
       "      <th>id</th>\n",
       "      <th>pagerank</th>\n",
       "    </tr>\n",
       "  </thead>\n",
       "  <tbody>\n",
       "  </tbody>\n",
       "</table>\n",
       "</div>"
      ],
      "text/plain": [
       "Empty DataFrame\n",
       "Columns: [id, pagerank]\n",
       "Index: []"
      ]
     },
     "execution_count": 22,
     "metadata": {},
     "output_type": "execute_result"
    }
   ],
   "source": [
    "ranks.vertices.limit(5).toPandas()"
   ]
  },
  {
   "cell_type": "markdown",
   "metadata": {},
   "source": [
    "Notice we now have a new column in the edges DataFrame called **weight**"
   ]
  },
  {
   "cell_type": "code",
   "execution_count": 23,
   "metadata": {},
   "outputs": [
    {
     "data": {
      "text/html": [
       "<div>\n",
       "<style scoped>\n",
       "    .dataframe tbody tr th:only-of-type {\n",
       "        vertical-align: middle;\n",
       "    }\n",
       "\n",
       "    .dataframe tbody tr th {\n",
       "        vertical-align: top;\n",
       "    }\n",
       "\n",
       "    .dataframe thead th {\n",
       "        text-align: right;\n",
       "    }\n",
       "</style>\n",
       "<table border=\"1\" class=\"dataframe\">\n",
       "  <thead>\n",
       "    <tr style=\"text-align: right;\">\n",
       "      <th></th>\n",
       "      <th>src</th>\n",
       "      <th>dst</th>\n",
       "      <th>ctry</th>\n",
       "      <th>trip_count</th>\n",
       "      <th>Distance_avg</th>\n",
       "      <th>C02Emission_avg</th>\n",
       "      <th>weight</th>\n",
       "    </tr>\n",
       "  </thead>\n",
       "  <tbody>\n",
       "  </tbody>\n",
       "</table>\n",
       "</div>"
      ],
      "text/plain": [
       "Empty DataFrame\n",
       "Columns: [src, dst, ctry, trip_count, Distance_avg, C02Emission_avg, weight]\n",
       "Index: []"
      ]
     },
     "execution_count": 23,
     "metadata": {},
     "output_type": "execute_result"
    }
   ],
   "source": [
    "ranks.edges.limit(5).toPandas()"
   ]
  },
  {
   "cell_type": "markdown",
   "metadata": {},
   "source": [
    "The most relevant bike station is:"
   ]
  },
  {
   "cell_type": "code",
   "execution_count": 24,
   "metadata": {},
   "outputs": [
    {
     "data": {
      "text/html": [
       "<div>\n",
       "<style scoped>\n",
       "    .dataframe tbody tr th:only-of-type {\n",
       "        vertical-align: middle;\n",
       "    }\n",
       "\n",
       "    .dataframe tbody tr th {\n",
       "        vertical-align: top;\n",
       "    }\n",
       "\n",
       "    .dataframe thead th {\n",
       "        text-align: right;\n",
       "    }\n",
       "</style>\n",
       "<table border=\"1\" class=\"dataframe\">\n",
       "  <thead>\n",
       "    <tr style=\"text-align: right;\">\n",
       "      <th></th>\n",
       "      <th>id</th>\n",
       "      <th>pagerank</th>\n",
       "    </tr>\n",
       "  </thead>\n",
       "  <tbody>\n",
       "  </tbody>\n",
       "</table>\n",
       "</div>"
      ],
      "text/plain": [
       "Empty DataFrame\n",
       "Columns: [id, pagerank]\n",
       "Index: []"
      ]
     },
     "execution_count": 24,
     "metadata": {},
     "output_type": "execute_result"
    }
   ],
   "source": [
    "ranks.vertices.orderBy(desc(\"pagerank\")).limit(1).toPandas()"
   ]
  },
  {
   "cell_type": "markdown",
   "metadata": {},
   "source": [
    "<a id='3.1'></a>\n",
    "### 3.1 Stop Hadoop\n",
    "\n",
    "Stops Hadoop\n",
    "Open a terminal and execute\n",
    "```sh\n",
    "hadoop-stop.sh\n",
    "```"
   ]
  }
 ],
 "metadata": {
  "kernelspec": {
   "display_name": "Python 3 (ipykernel)",
   "language": "python",
   "name": "python3"
  },
  "language_info": {
   "codemirror_mode": {
    "name": "ipython",
    "version": 3
   },
   "file_extension": ".py",
   "mimetype": "text/x-python",
   "name": "python",
   "nbconvert_exporter": "python",
   "pygments_lexer": "ipython3",
   "version": "3.9.2"
  }
 },
 "nbformat": 4,
 "nbformat_minor": 2
}
