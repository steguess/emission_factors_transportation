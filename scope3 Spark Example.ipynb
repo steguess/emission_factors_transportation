{
 "cells": [
  {
   "cell_type": "code",
   "execution_count": 1,
   "id": "0aa8040d",
   "metadata": {},
   "outputs": [
    {
     "name": "stdout",
     "output_type": "stream",
     "text": [
      "Scope 3 Emission Analysis\n",
      "--\n",
      "Analysis initialization:\n",
      "  1. Building the Spark Session...\n"
     ]
    }
   ],
   "source": [
    "import findspark\n",
    "findspark.init()\n",
    "from pyspark.sql import SparkSession\n",
    "from pyspark.context import SparkContext\n",
    "print (\"Scope 3 Emission Analysis\")\n",
    "print (\"--\")\n",
    "print (\"Analysis initialization:\")\n",
    "print (\"  1. Building the Spark Session...\")"
   ]
  },
  {
   "cell_type": "code",
   "execution_count": 2,
   "id": "7b26a787",
   "metadata": {},
   "outputs": [],
   "source": [
    "import os\n",
    "os.environ['PYSPARK_SUBMIT_ARGS'] = '--packages \"graphframes:graphframes:0.8.2-spark3.2-s_2.12\" --jars /opt/hive3/lib/hive-hcatalog-core-3.1.2.jar pyspark-shell'"
   ]
  },
  {
   "cell_type": "code",
   "execution_count": 3,
   "id": "c2140657",
   "metadata": {},
   "outputs": [
    {
     "name": "stderr",
     "output_type": "stream",
     "text": [
      "WARNING: An illegal reflective access operation has occurred\n",
      "WARNING: Illegal reflective access by org.apache.spark.unsafe.Platform (file:/opt/spark3/jars/spark-unsafe_2.12-3.2.1.jar) to constructor java.nio.DirectByteBuffer(long,int)\n",
      "WARNING: Please consider reporting this to the maintainers of org.apache.spark.unsafe.Platform\n",
      "WARNING: Use --illegal-access=warn to enable warnings of further illegal reflective access operations\n",
      "WARNING: All illegal access operations will be denied in a future release\n"
     ]
    },
    {
     "name": "stdout",
     "output_type": "stream",
     "text": [
      ":: loading settings :: url = jar:file:/opt/spark3/jars/ivy-2.5.0.jar!/org/apache/ivy/core/settings/ivysettings.xml\n"
     ]
    },
    {
     "name": "stderr",
     "output_type": "stream",
     "text": [
      "Ivy Default Cache set to: /home/osbdet/.ivy2/cache\n",
      "The jars for the packages stored in: /home/osbdet/.ivy2/jars\n",
      "graphframes#graphframes added as a dependency\n",
      ":: resolving dependencies :: org.apache.spark#spark-submit-parent-12ffc9ff-0379-4ba7-a882-ba5af1e0e3c1;1.0\n",
      "\tconfs: [default]\n",
      "\tfound graphframes#graphframes;0.8.2-spark3.2-s_2.12 in spark-packages\n",
      "\tfound org.slf4j#slf4j-api;1.7.16 in central\n",
      ":: resolution report :: resolve 533ms :: artifacts dl 40ms\n",
      "\t:: modules in use:\n",
      "\tgraphframes#graphframes;0.8.2-spark3.2-s_2.12 from spark-packages in [default]\n",
      "\torg.slf4j#slf4j-api;1.7.16 from central in [default]\n",
      "\t---------------------------------------------------------------------\n",
      "\t|                  |            modules            ||   artifacts   |\n",
      "\t|       conf       | number| search|dwnlded|evicted|| number|dwnlded|\n",
      "\t---------------------------------------------------------------------\n",
      "\t|      default     |   2   |   0   |   0   |   0   ||   2   |   0   |\n",
      "\t---------------------------------------------------------------------\n",
      ":: retrieving :: org.apache.spark#spark-submit-parent-12ffc9ff-0379-4ba7-a882-ba5af1e0e3c1\n",
      "\tconfs: [default]\n",
      "\t0 artifacts copied, 2 already retrieved (0kB/18ms)\n",
      "22/10/19 18:51:47 ERROR SparkContext: Failed to add file:/opt/hive3/lib/hive-hcatalog-core-3.1.2.jar to Spark environment\n",
      "java.io.FileNotFoundException: Jar /opt/hive3/lib/hive-hcatalog-core-3.1.2.jar not found\n",
      "\tat org.apache.spark.SparkContext.addLocalJarFile$1(SparkContext.scala:1935)\n",
      "\tat org.apache.spark.SparkContext.addJar(SparkContext.scala:1990)\n",
      "\tat org.apache.spark.SparkContext.$anonfun$new$12(SparkContext.scala:503)\n",
      "\tat org.apache.spark.SparkContext.$anonfun$new$12$adapted(SparkContext.scala:503)\n",
      "\tat scala.collection.mutable.ResizableArray.foreach(ResizableArray.scala:62)\n",
      "\tat scala.collection.mutable.ResizableArray.foreach$(ResizableArray.scala:55)\n",
      "\tat scala.collection.mutable.ArrayBuffer.foreach(ArrayBuffer.scala:49)\n",
      "\tat org.apache.spark.SparkContext.<init>(SparkContext.scala:503)\n",
      "\tat org.apache.spark.api.java.JavaSparkContext.<init>(JavaSparkContext.scala:58)\n",
      "\tat java.base/jdk.internal.reflect.NativeConstructorAccessorImpl.newInstance0(Native Method)\n",
      "\tat java.base/jdk.internal.reflect.NativeConstructorAccessorImpl.newInstance(NativeConstructorAccessorImpl.java:62)\n",
      "\tat java.base/jdk.internal.reflect.DelegatingConstructorAccessorImpl.newInstance(DelegatingConstructorAccessorImpl.java:45)\n",
      "\tat java.base/java.lang.reflect.Constructor.newInstance(Constructor.java:490)\n",
      "\tat py4j.reflection.MethodInvoker.invoke(MethodInvoker.java:247)\n",
      "\tat py4j.reflection.ReflectionEngine.invoke(ReflectionEngine.java:357)\n",
      "\tat py4j.Gateway.invoke(Gateway.java:238)\n",
      "\tat py4j.commands.ConstructorCommand.invokeConstructor(ConstructorCommand.java:80)\n",
      "\tat py4j.commands.ConstructorCommand.execute(ConstructorCommand.java:69)\n",
      "\tat py4j.ClientServerConnection.waitForCommands(ClientServerConnection.java:182)\n",
      "\tat py4j.ClientServerConnection.run(ClientServerConnection.java:106)\n",
      "\tat java.base/java.lang.Thread.run(Thread.java:829)\n"
     ]
    }
   ],
   "source": [
    "# 1. Building the Spark Session\n",
    "sc = SparkSession.builder\\\n",
    "    .master('local')\\\n",
    "    .appName('Scope3')\\\n",
    "    .getOrCreate()\n",
    "spark = SparkSession(sc)"
   ]
  },
  {
   "cell_type": "code",
   "execution_count": 5,
   "id": "98a1b5dd",
   "metadata": {},
   "outputs": [
    {
     "name": "stdout",
     "output_type": "stream",
     "text": [
      "  2. Creating the vertices (Sites) and edges (trips) DataFrames from HDFS...\n"
     ]
    },
    {
     "name": "stderr",
     "output_type": "stream",
     "text": [
      "                                                                                \r"
     ]
    }
   ],
   "source": [
    "# 2. Dataframes creation\n",
    "print (\"  2. Creating the vertices (Sites) and edges (trips) DataFrames from HDFS...\")\n",
    "stations = (spark.read\n",
    "        .option(\"header\",\"true\")\n",
    "        .option(\"inferSchema\",\"true\")\n",
    "        .csv(\"hdfs://localhost:9000/datalake/raw/scope3\",sep=\";\")\n",
    "        .limit(100)\n",
    "        .distinct())\n",
    "# trips = (spark.read\n",
    "#               .option(\"header\",\"true\")\n",
    "#               .option(\"inferSchema\",\"true\") \n",
    "#               .csv(\"hdfs://localhost:9000/datalake/raw/san-francisco-bay-bike-sharing/trips/\"))"
   ]
  },
  {
   "cell_type": "code",
   "execution_count": 6,
   "id": "6e94bb49",
   "metadata": {},
   "outputs": [
    {
     "name": "stdout",
     "output_type": "stream",
     "text": [
      "  2a. Creating the vertices\n",
      "  2b. Creating the edges\n"
     ]
    }
   ],
   "source": [
    "print (\"  2a. Creating the vertices\")\n",
    "origin_keys=stations.select(\"Origin_Key\").distinct()\n",
    "target_keys=stations.select(\"Target_Key\").distinct()\n",
    "nodes=origin_keys.union(target_keys).distinct()\n",
    "print (\"  2b. Creating the edges\")\n",
    "# edges=stations.select(\"Origin_Key\",'Target_Key').distinct()"
   ]
  },
  {
   "cell_type": "code",
   "execution_count": 13,
   "id": "bd72f31a",
   "metadata": {},
   "outputs": [
    {
     "name": "stdout",
     "output_type": "stream",
     "text": [
      "  3. Building the graph with GraphFrames...\n"
     ]
    },
    {
     "data": {
      "text/plain": [
       "GraphFrame(v:[id: string], e:[src: string, dst: string ... 2 more fields])"
      ]
     },
     "execution_count": 13,
     "metadata": {},
     "output_type": "execute_result"
    }
   ],
   "source": [
    "# 3. Time to build our graph with the GraphFrames library\n",
    "from pyspark.sql.functions import count,avg,desc,asc,col\n",
    "from graphframes import GraphFrame\n",
    "\n",
    "print (\"  3. Building the graph with GraphFrames...\")\n",
    "# GraphFrames requires the vertices DataFrame to have a column named id.\n",
    "vertices = nodes.withColumnRenamed(\"Origin_Key\",\"id\")\n",
    "\n",
    "# GraphFrames requires the edges DataFrame to have columns named src and dst\n",
    "trips = (stations.withColumnRenamed(\"Origin_Key\", \"src\")\n",
    "              .withColumnRenamed(\"Target_Key\", \"dst\"))\n",
    "#               .withColumnRenamed(\"Origin_Key\", \"src_name\")\n",
    "#               .withColumnRenamed(\"Target_Key\", \"dst_name\")              \n",
    "edges = (trips.groupBy(\"src\", \"dst\")\n",
    "               .agg(count(\"*\").alias(\"trip_count\"),\n",
    "                    avg(\"Distance\").alias(\"Distance\")))\n",
    "\n",
    "# Build the graph\n",
    "graph = GraphFrame(vertices, edges)\n",
    "\n",
    "# graph processing usually requires multiple iterations, \n",
    "# therefore caching it will bring better performance\n",
    "graph.cache()   "
   ]
  },
  {
   "cell_type": "code",
   "execution_count": 14,
   "id": "75988f50",
   "metadata": {},
   "outputs": [
    {
     "name": "stdout",
     "output_type": "stream",
     "text": [
      "  4. Running the PageRank algorithm to get the top 5 most popular bike stations (be patient)...\n"
     ]
    },
    {
     "name": "stderr",
     "output_type": "stream",
     "text": [
      "[Stage 312:=================================================>   (186 + 1) / 200]\r"
     ]
    },
    {
     "name": "stdout",
     "output_type": "stream",
     "text": [
      "+---------+------------------+\n",
      "|       id|          pagerank|\n",
      "+---------+------------------+\n",
      "|010 01-SK|1.1001751871317103|\n",
      "|624 00-CZ|1.1001751871317103|\n",
      "|010 04-SK|1.1001751871317103|\n",
      "|974 01-SK|1.1001751871317103|\n",
      "|901 01-SK|1.1001751871317103|\n",
      "+---------+------------------+\n",
      "only showing top 5 rows\n",
      "\n"
     ]
    },
    {
     "name": "stderr",
     "output_type": "stream",
     "text": [
      "                                                                                \r"
     ]
    }
   ],
   "source": [
    "# 4. Let's use the PageRank algorithm to identify the top 5 most popular bikestations.\n",
    "print (\"  4. Running the PageRank algorithm to get the top 5 most popular bike stations (be patient)...\")\n",
    "from pyspark.sql.functions import desc\n",
    "ranks = graph.pageRank(resetProbability=0.15, maxIter=10)\n",
    "ranks.vertices.orderBy(desc(\"pagerank\")).select(\"id\", \"pagerank\").show(5)\n"
   ]
  },
  {
   "cell_type": "code",
   "execution_count": null,
   "id": "4dea778a",
   "metadata": {},
   "outputs": [],
   "source": [
    "# 5. Finalize the execution (release resources if needed)\n",
    "print (\"The job is done! Have a great day my human friend :)\")"
   ]
  }
 ],
 "metadata": {
  "kernelspec": {
   "display_name": "Python 3 (ipykernel)",
   "language": "python",
   "name": "python3"
  },
  "language_info": {
   "codemirror_mode": {
    "name": "ipython",
    "version": 3
   },
   "file_extension": ".py",
   "mimetype": "text/x-python",
   "name": "python",
   "nbconvert_exporter": "python",
   "pygments_lexer": "ipython3",
   "version": "3.9.2"
  }
 },
 "nbformat": 4,
 "nbformat_minor": 5
}
